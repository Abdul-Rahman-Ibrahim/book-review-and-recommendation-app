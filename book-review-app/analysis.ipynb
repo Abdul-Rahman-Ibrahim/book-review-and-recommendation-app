{
 "cells": [
  {
   "cell_type": "code",
   "execution_count": 1,
   "metadata": {},
   "outputs": [
    {
     "name": "stderr",
     "output_type": "stream",
     "text": [
      "[nltk_data] Downloading package punkt to\n",
      "[nltk_data]     D:\\Users\\26101742\\AppData\\Roaming\\nltk_data...\n",
      "[nltk_data]   Package punkt is already up-to-date!\n"
     ]
    },
    {
     "data": {
      "text/plain": [
       "True"
      ]
     },
     "execution_count": 1,
     "metadata": {},
     "output_type": "execute_result"
    }
   ],
   "source": [
    "import json\n",
    "import os\n",
    "\n",
    "import datetime\n",
    "from math import log10, sqrt\n",
    "import string\n",
    "from collections import namedtuple, defaultdict, Counter\n",
    "\n",
    "from load import PrepareBooks\n",
    "from txtai.embeddings import Embeddings\n",
    "\n",
    "from IPython.display import display, HTML\n",
    "import re\n",
    "\n",
    "from nltk.tokenize import word_tokenize\n",
    "from nltk.stem.snowball import EnglishStemmer\n",
    "import nltk\n",
    "nltk.download('punkt')\n"
   ]
  },
  {
   "cell_type": "code",
   "execution_count": 2,
   "metadata": {},
   "outputs": [
    {
     "data": {
      "text/plain": [
       "['Harry Potter and the Goblet of Fire (Harry Potter, #4) by J.K. Rowling, Jim Kay, Mary GrandPré. Places are Scotland, United Kingdom, Hogwarts School of Witchcraft and Wizardry.             The characters are Cho Chang, Molly Weasley, Hermione Granger, Neville Longbottom, Arthur Weasley, Sybil Trelawney, George Weasley, Ginny Weasley, Harry Potter, Dudley Dursley, Severus Snape, Alastor Moody, Draco Malfoy, Cedric Diggory, Rita Skeeter, Bartemius Crouch, Jr., Bill Weasley, Sirius Black, Petunia Dursley, Lord Voldemort, Percy Weasley, Fred Weasley, Viktor Krum, Albus Dumbledore, Vernon Dursley, Rubeus Hagrid, Minerva McGonagall, Cornelius Fudge, Ron Weasley, Bellatrix Lestrange, Bartemius Crouch, Charlie Weasley, Ludo Bagman, Fleur Delacour. The genres are Fiction, Adventure, Fantasy, Young Adult, Science Fiction Fantasy, Classics, Middle Grade, Magic, Childrens, Audiobook.             Summary: It is the summer holidays and soon Harry Potter will be starting his fourth year at Hogwarts School of Witchcraft and Wizardry. Harry is counting the days: there are new spells to be learnt, more Quidditch to be played, and Hogwarts castle to continue exploring. But Harry needs to be careful - there are unexpected dangers lurking...',\n",
       " \"Trainspotting (Mark Renton, #2) by Irvine Welsh. Places are Edinburgh, Scotland, Scotland, London, England.             The characters are Simon Williamson, Mark Renton. The genres are Fiction, Literature, British Literature, Crime, Contemporary, 20th Century, Scotland, Classics, Thriller, Novels.             Summary: The bestselling novel by Irvine Welsh that provided the inspiration for Danny Boyle’s hit film'Choose us. Choose life. Choose mortgage payments; choose washing machines; choose cars; choose sitting oan a couch watching mind-numbing and spirit-crushing game shows, stuffing fuckin junk food intae yir mooth. Choose rotting away, pishing and shiteing yersel in a home, a total fuckin embarrassment tae the selfish, fucked-up brats ye've produced. Choose life.\",\n",
       " 'Different Seasons by Stephen King. Places are Castle Rock, Maine, Los Angeles, California, Shawshank State Penitentiary.             The characters are Andy Dufresne, Chris Chambers, Ellis Boyd Redding, Kurt Dussander, Todd Bowden, Gordie Lachance. The genres are Fiction, Horror, Fantasy, Mystery, Drama, Suspense, Classics, Short Stories, Thriller, Audiobook.             Summary: Includes the stories “The Body” and “Rita Hayworth and Shawshank Redemption”—set in the fictional town of Castle Rock, MaineA “hypnotic” (The New York Times Book Review) collection of four novellas—including the inspirations behind the films Stand By Me and The Shawshank Redemption—from Stephen King, bound together by the changing of seasons, each taking on the theme of a journey with strikingly different tones and characters.This gripping collection begins with “Rita Hayworth and the Shawshank Redemption,” in which an unjustly imprisoned convict seeks a strange and startling revenge—the basis for the Best Picture Academy Award-nominee The Shawshank Redemption.Next is “Apt Pupil,” the inspiration for the film of the same name about top high school student Todd Bowden and his obsession with the dark and deadly past of an older man in town.In “The Body,” four rambunctious young boys plunge through the façade of a small town and come face-to-face with life, death, and intimations of their own mortality. This novella became the movie Stand By Me.Finally, a disgraced woman is determined to triumph over death in “The Breathing Method.”“The wondrous readability of his work, as well as the instant sense of communication with his characters, are what make Stephen King the consummate storyteller that he is,” hailed the Houston Chronicle about Different Seasons.']"
      ]
     },
     "execution_count": 2,
     "metadata": {},
     "output_type": "execute_result"
    }
   ],
   "source": [
    "obj = PrepareBooks()\n",
    "obj.loadBooks(\"data/book_best.jl\")\n",
    "\n",
    "books = obj.books\n",
    "data = obj.getDescription()\n",
    "data[:3]"
   ]
  },
  {
   "cell_type": "code",
   "execution_count": 3,
   "metadata": {},
   "outputs": [],
   "source": [
    "reviews = obj.loadReviews(\"data/reviews.json\")"
   ]
  },
  {
   "cell_type": "code",
   "execution_count": 4,
   "metadata": {},
   "outputs": [
    {
     "data": {
      "text/html": [
       "<strong><a href=\"https://www.goodreads.com/book/show/6.Harry_Potter_and_the_Goblet_of_Fire\">Harry Potter and the Goblet of Fire (Harry Potter, #4)</a></strong><br>28-09-2002. J.K. Rowling, Jim Kay, Mary GrandPré<br><small><strong>Abstract:</strong> <em>It is the summer holidays and soon Harry Potter will be starting his fourth year at Hogwarts School of Witchcraft and Wizardry. Harry is counting the days: there are new spells to be learnt, more Quidditch to be played, and Hogwarts castle to continue exploring. But Harry needs to be careful - there are unexpected dangers lurking...</em></small>"
      ],
      "text/plain": [
       "<IPython.core.display.HTML object>"
      ]
     },
     "metadata": {},
     "output_type": "display_data"
    }
   ],
   "source": [
    "def display_summary( url, show_abstract=False, show_id=True, extra_text='' ):\n",
    "    \"\"\"\n",
    "    Function for printing a paper's summary through IPython's Rich Display System.\n",
    "    Trims long author lists, and adds a link to the paper's DOI (when available).\n",
    "    \"\"\"\n",
    "    book = books[url]\n",
    "    lines = []\n",
    "    title = book[\"title\"]\n",
    "\n",
    "    title = f'<a href=\"{url}\">{title}</a>'  # Include the title within the anchor tag\n",
    "    title = '<strong>' + title + '</strong>'\n",
    "    lines.append(title)\n",
    "    authors = ', '.join( book[\"author\"][:20] ) + ('' if len(book[\"author\"]) <= 20 else ', ...')\n",
    "    \n",
    "    if type(book[\"publishDate\"]) == int and book[\"publishDate\"] > 0:\n",
    "        timestamp = book[\"publishDate\"]/1000\n",
    "        date = datetime.datetime.fromtimestamp(timestamp).date()\n",
    "        date = date.strftime('%d-%m-%Y')\n",
    "    else:\n",
    "        date = \"NA\"\n",
    "\n",
    "    lines.append(str(date) + '. ' + authors)\n",
    "    if (show_abstract):\n",
    "        lines.append(f'<small><strong>Abstract:</strong> <em>{book[\"summary\"]}</em></small>')\n",
    "    if (extra_text != ''):\n",
    "         lines.append(extra_text)\n",
    "    display( HTML('<br>'.join(lines)) )\n",
    "\n",
    "display_summary('https://www.goodreads.com/book/show/6.Harry_Potter_and_the_Goblet_of_Fire', show_abstract=True)\n"
   ]
  },
  {
   "cell_type": "code",
   "execution_count": 9,
   "metadata": {},
   "outputs": [
    {
     "name": "stdout",
     "output_type": "stream",
     "text": [
      "['good', 'muffin', 'cost', '$', '3.88', 'in', 'new', 'york', '.', 'pleas', 'buy', 'me', 'two', 'of', 'them', '.', 'thank', '.']\n"
     ]
    }
   ],
   "source": [
    "def smarter_tokenize_and_preprocess(strings):\n",
    "    stemmer = EnglishStemmer()\n",
    "    return [stemmer.stem(term) for term in word_tokenize(strings)]\n",
    "\n",
    "print(smarter_tokenize_and_preprocess('''Good muffins cost $3.88\\nin New York.  Please buy me two of them.\\n\\nThanks.'''))"
   ]
  },
  {
   "cell_type": "markdown",
   "metadata": {},
   "source": [
    "### Create an Inverted Index"
   ]
  },
  {
   "cell_type": "code",
   "execution_count": 10,
   "metadata": {},
   "outputs": [],
   "source": [
    "# Below, we create our smarter index\n",
    "smarter_index = defaultdict(list)\n",
    "\n",
    "# Here we define the subset (somewhat arbitrary):\n",
    "subset_of_ids = list(key for key in books.keys())\n",
    "\n",
    "# Building our smarter index:\n",
    "for id in sorted(subset_of_ids):\n",
    "    term_set = set(smarter_tokenize_and_preprocess(books[id][\"title\"]))\n",
    "    term_set.update(smarter_tokenize_and_preprocess(books[id][\"summary\"]))\n",
    "    for term in term_set:\n",
    "        smarter_index[term].append(id)"
   ]
  },
  {
   "cell_type": "code",
   "execution_count": 11,
   "metadata": {},
   "outputs": [],
   "source": [
    "# Smarter and_query based on the smarter tokenize and preprocess functions\n",
    "def and_merge(sorted_list1, sorted_list2):  \n",
    "    merged_list = []  \n",
    "    # first we make copies of the lists, so we don't modify the existing lists in the index:\n",
    "    list1 = list(sorted_list1)  \n",
    "    list2 = list(sorted_list2)  \n",
    "    while (list1 and list2):  \n",
    "        if (list1[0] < list2[0]):  \n",
    "            list1.pop(0)  \n",
    "        elif (list1[0] > list2[0]):  \n",
    "            list2.pop(0)  \n",
    "        else:  \n",
    "            merged_list.append(list1[0])  \n",
    "            list1.pop(0)  \n",
    "            list2.pop(0)  \n",
    "    return merged_list  \n",
    "\n",
    "def smarter_and_query(query_string):  \n",
    "    query_words = smarter_tokenize_and_preprocess(query_string)  \n",
    "    first_word = query_words[0]  \n",
    "    remaining_words = query_words[1:]  \n",
    "    and_list = smarter_index[first_word]  \n",
    "    for t in remaining_words:  \n",
    "        and_list = and_merge(and_list, smarter_index[t])  \n",
    "    return and_list  \n"
   ]
  },
  {
   "cell_type": "code",
   "execution_count": 30,
   "metadata": {},
   "outputs": [
    {
     "data": {
      "text/html": [
       "<strong><a href=\"https://www.goodreads.com/book/show/11691.Snow\">Snow</a></strong><br>01-08-2005. Orhan Pamuk, Maureen Freely<br><small><strong>Abstract:</strong> <em>One of multiple covers for ISBN 9780375706868.A spellbinding tale of disparate yearnings – for love, art, power, and God – set in a remote Turkish town, where stirrings of political Islamism threaten to unravel the secular order; by the winner of the 2006 Nobel Prize for Literature.From the acclaimed author of My Name Is Red comes a spellbinding tale of disparate yearnings–for love, art, power, and God–set in a remote Turkish town, where stirrings of political Islamism threaten to unravel the secular order. Following years of lonely political exile in Western Europe, Ka, a middle-aged poet, returns to Istanbul to attend his mother's funeral. Only partly recognizing this place of his cultured, middle-class youth, he is even more disoriented by news of strange events in the wider country: a wave of suicides among girls forbidden to wear their head scarves at school. An apparent thaw of his writer's curiosity–a frozen sea these many years–leads him to Kars, a far-off town near the Russian border and the epicenter of the suicides. No sooner has he arrived, however, than we discover that Ka's motivations are not purely journalistic; for in Kars, once a province of Ottoman and then Russian glory, now a cultural gray-zone of poverty and paralysis, there is also Ipek, a radiant friend of Ka's youth, lately divorced, whom he has never forgotten. As a snowstorm, the fiercest in memory, descends on the town and seals it off from the modern, westernized world that has always been Ka's frame of reference, he finds himself drawn in unexpected directions: not only headlong toward the unknowable Ipek and the desperate hope for love–or at least a wife–that she embodies, but also into the maelstrom of a military coup staged to restrain the local Islamist radicals, and even toward God, whose existence Ka has never before allowed himself to contemplate. In this surreal confluence of emotion and spectacle, Ka begins to tap his dormant creative powers, producing poem after poem in untimely, irresistible bursts of inspiration. But not until the snows have melted and the political violence has run its bloody course will Ka discover the fate of his bid to seize a last chance for happiness. Blending profound sympathy and mischievous wit, Snow illuminates the contradictions gripping the individual and collective heart in many parts of the Muslim world. But even more, by its narrative brilliance and comprehension of the needs and duties</em></small>"
      ],
      "text/plain": [
       "<IPython.core.display.HTML object>"
      ]
     },
     "metadata": {},
     "output_type": "display_data"
    },
    {
     "data": {
      "text/html": [
       "<strong><a href=\"https://www.goodreads.com/book/show/6282753-the-museum-of-innocence\">The Museum of Innocence</a></strong><br>20-10-2009. Orhan Pamuk, Maureen Freely<br><small><strong>Abstract:</strong> <em>“It was the happiest moment of my life, though I didn’t know it.” So begins the new novel, his first since winning the Nobel Prize, from the universally acclaimed author of Snow and My Name Is Red. It is 1975, a perfect spring in Istanbul. Kemal, scion of one of the city’s wealthiest families, is about to become engaged to Sibel, daughter of another prominent family, when he encounters Füsun, a beautiful shopgirl and a distant relation. Once the long-lost cousins violate the code of virginity, a rift begins to open between Kemal and the world of the Westernized Istanbul bourgeosie—a world, as he lovingly describes it, with opulent parties and clubs, society gossip, restaurant rituals, picnics, and mansions on the Bosphorus, infused with the melancholy of decay—until finally he breaks off his engagement to Sibel. But his resolve comes too late. For eight years Kemal will find excuses to visit another Istanbul, that of the impoverished backstreets where Füsun, her heart now hardened, lives with her parents, and where Kemal discovers the consolations of middle-class life at a dinner table in front of the television. His obsessive love will also take him to the demimonde of Istanbul film circles (where he promises to make Füsun a star), a scene of seedy bars, run-down cheap hotels, and small men with big dreams doomed to bitter failure. In his feckless pursuit, Kemal becomes a compulsive collector of objects that chronicle his lovelorn progress and his afflicted heart’s reactions: anger and impatience, remorse and humiliation, deluded hopes of recovery, and daydreams that transform Istanbul into a cityscape of signs and specters of his beloved, from whom now he can extract only meaningful glances and stolen kisses in cars, movie houses, and shadowy corners of parks. A last change to realize his dream will come to an awful end before Kemal discovers that all he finally can possess, certainly and eternally, is the museum he has created of his collection, this map of a society’s manners and mores, and of one man’s broken heart.A stirring exploration of the nature of romantic attachment and of the mysterious allure of collecting, The Museum of Innocence also plumbs the depths of an Istanbul half Western and half traditional—its emergent modernity, its vast cultural history. This is Orhan Pamuk’s greatest achievement.</em></small>"
      ],
      "text/plain": [
       "<IPython.core.display.HTML object>"
      ]
     },
     "metadata": {},
     "output_type": "display_data"
    }
   ],
   "source": [
    "text = 'Heart of Istanbul'\n",
    "postings = smarter_and_query(text)\n",
    "for id in postings[:5]:\n",
    "    display_summary(id, show_abstract=True)"
   ]
  },
  {
   "cell_type": "markdown",
   "metadata": {},
   "source": [
    "Another important method to improve our search results is to rank them, which can be done by calculating a score for each document based on the matching terms from the query. One such scoring method is *tf-idf*, which comes with several variants, as explained in the lecture slides.\n",
    "\n",
    "In order to quickly calculate the scores for a term/document combination, we'll need quick access to a couple of things:\n",
    "\n",
    "- tf(t,d): How often does a term occur in a document\n",
    "- df(t): In how many documents does a term occur\n",
    "- num_documents: The number of documents in our index"
   ]
  },
  {
   "cell_type": "code",
   "execution_count": 14,
   "metadata": {},
   "outputs": [],
   "source": [
    "tf_matrix = defaultdict(Counter)\n",
    "\n",
    "for doc_id in books.keys():\n",
    "    tokens = smarter_tokenize_and_preprocess(books[doc_id][\"title\"])\n",
    "    tokens.extend(smarter_tokenize_and_preprocess(books[doc_id][\"summary\"]))\n",
    "    tf_matrix[doc_id] = Counter(tokens)\n",
    "\n",
    "def tf(t,d):\n",
    "    return float(tf_matrix[d][t])\n",
    "\n",
    "def df(t):\n",
    "    return float(len(smarter_index[t]))\n",
    "\n",
    "num_documents = float(len(books))"
   ]
  },
  {
   "cell_type": "code",
   "execution_count": 15,
   "metadata": {},
   "outputs": [
    {
     "name": "stdout",
     "output_type": "stream",
     "text": [
      "0.0\n",
      "2.0\n",
      "10000.0\n"
     ]
    }
   ],
   "source": [
    "print(tf('ghana', \"https://www.goodreads.com/book/show/25322449-radio-silence\"))\n",
    "print(df('ghana'))\n",
    "print(num_documents)"
   ]
  },
  {
   "cell_type": "code",
   "execution_count": 16,
   "metadata": {},
   "outputs": [],
   "source": [
    "def idf(t):\n",
    "    return log10((num_documents + 1)/(df(t) + 1))\n",
    "\n",
    "def tfidf(t, d):\n",
    "    return tf(t, d)*idf(t)"
   ]
  },
  {
   "cell_type": "code",
   "execution_count": 31,
   "metadata": {},
   "outputs": [],
   "source": [
    "def query_ntn_nn(query_string):\n",
    "    query_list = smarter_tokenize_and_preprocess(query_string)\n",
    "    docs = smarter_and_query(query_string)\n",
    "    results = score_ntn_nnn(query_list, docs)\n",
    "    return results\n",
    "\n",
    "def score_ntn_nnn(t, d):\n",
    "    rank = defaultdict(float)\n",
    "    for term in t:\n",
    "        for doc in d:\n",
    "            rank[doc] += tfidf(term, doc)\n",
    "    return sorted(rank.items(), key=lambda i:i[1], reverse=True)"
   ]
  },
  {
   "cell_type": "code",
   "execution_count": 33,
   "metadata": {},
   "outputs": [
    {
     "data": {
      "text/html": [
       "<strong><a href=\"https://www.goodreads.com/book/show/6282753-the-museum-of-innocence\">The Museum of Innocence</a></strong><br>20-10-2009. Orhan Pamuk, Maureen Freely<br><small><strong>Abstract:</strong> <em>“It was the happiest moment of my life, though I didn’t know it.” So begins the new novel, his first since winning the Nobel Prize, from the universally acclaimed author of Snow and My Name Is Red. It is 1975, a perfect spring in Istanbul. Kemal, scion of one of the city’s wealthiest families, is about to become engaged to Sibel, daughter of another prominent family, when he encounters Füsun, a beautiful shopgirl and a distant relation. Once the long-lost cousins violate the code of virginity, a rift begins to open between Kemal and the world of the Westernized Istanbul bourgeosie—a world, as he lovingly describes it, with opulent parties and clubs, society gossip, restaurant rituals, picnics, and mansions on the Bosphorus, infused with the melancholy of decay—until finally he breaks off his engagement to Sibel. But his resolve comes too late. For eight years Kemal will find excuses to visit another Istanbul, that of the impoverished backstreets where Füsun, her heart now hardened, lives with her parents, and where Kemal discovers the consolations of middle-class life at a dinner table in front of the television. His obsessive love will also take him to the demimonde of Istanbul film circles (where he promises to make Füsun a star), a scene of seedy bars, run-down cheap hotels, and small men with big dreams doomed to bitter failure. In his feckless pursuit, Kemal becomes a compulsive collector of objects that chronicle his lovelorn progress and his afflicted heart’s reactions: anger and impatience, remorse and humiliation, deluded hopes of recovery, and daydreams that transform Istanbul into a cityscape of signs and specters of his beloved, from whom now he can extract only meaningful glances and stolen kisses in cars, movie houses, and shadowy corners of parks. A last change to realize his dream will come to an awful end before Kemal discovers that all he finally can possess, certainly and eternally, is the museum he has created of his collection, this map of a society’s manners and mores, and of one man’s broken heart.A stirring exploration of the nature of romantic attachment and of the mysterious allure of collecting, The Museum of Innocence also plumbs the depths of an Istanbul half Western and half traditional—its emergent modernity, its vast cultural history. This is Orhan Pamuk’s greatest achievement.</em></small>"
      ],
      "text/plain": [
       "<IPython.core.display.HTML object>"
      ]
     },
     "metadata": {},
     "output_type": "display_data"
    },
    {
     "name": "stdout",
     "output_type": "stream",
     "text": [
      "Score: 19.63915705325775\n"
     ]
    },
    {
     "data": {
      "text/html": [
       "<strong><a href=\"https://www.goodreads.com/book/show/11691.Snow\">Snow</a></strong><br>01-08-2005. Orhan Pamuk, Maureen Freely<br><small><strong>Abstract:</strong> <em>One of multiple covers for ISBN 9780375706868.A spellbinding tale of disparate yearnings – for love, art, power, and God – set in a remote Turkish town, where stirrings of political Islamism threaten to unravel the secular order; by the winner of the 2006 Nobel Prize for Literature.From the acclaimed author of My Name Is Red comes a spellbinding tale of disparate yearnings–for love, art, power, and God–set in a remote Turkish town, where stirrings of political Islamism threaten to unravel the secular order. Following years of lonely political exile in Western Europe, Ka, a middle-aged poet, returns to Istanbul to attend his mother's funeral. Only partly recognizing this place of his cultured, middle-class youth, he is even more disoriented by news of strange events in the wider country: a wave of suicides among girls forbidden to wear their head scarves at school. An apparent thaw of his writer's curiosity–a frozen sea these many years–leads him to Kars, a far-off town near the Russian border and the epicenter of the suicides. No sooner has he arrived, however, than we discover that Ka's motivations are not purely journalistic; for in Kars, once a province of Ottoman and then Russian glory, now a cultural gray-zone of poverty and paralysis, there is also Ipek, a radiant friend of Ka's youth, lately divorced, whom he has never forgotten. As a snowstorm, the fiercest in memory, descends on the town and seals it off from the modern, westernized world that has always been Ka's frame of reference, he finds himself drawn in unexpected directions: not only headlong toward the unknowable Ipek and the desperate hope for love–or at least a wife–that she embodies, but also into the maelstrom of a military coup staged to restrain the local Islamist radicals, and even toward God, whose existence Ka has never before allowed himself to contemplate. In this surreal confluence of emotion and spectacle, Ka begins to tap his dormant creative powers, producing poem after poem in untimely, irresistible bursts of inspiration. But not until the snows have melted and the political violence has run its bloody course will Ka discover the fate of his bid to seize a last chance for happiness. Blending profound sympathy and mischievous wit, Snow illuminates the contradictions gripping the individual and collective heart in many parts of the Muslim world. But even more, by its narrative brilliance and comprehension of the needs and duties</em></small>"
      ],
      "text/plain": [
       "<IPython.core.display.HTML object>"
      ]
     },
     "metadata": {},
     "output_type": "display_data"
    },
    {
     "name": "stdout",
     "output_type": "stream",
     "text": [
      "Score: 4.618603945802349\n"
     ]
    }
   ],
   "source": [
    "results = query_ntn_nn(\"Heart of Istanbul\")\n",
    "K = 5\n",
    "for id, score in results[:K]:\n",
    "    display_summary(id, show_abstract=True)\n",
    "    print(f'Score: {score}')"
   ]
  },
  {
   "cell_type": "code",
   "execution_count": 35,
   "metadata": {},
   "outputs": [],
   "source": [
    "tfidf_length_values = defaultdict(int)\n",
    "\n",
    "for doc_id in books.keys():\n",
    "    l = 0\n",
    "    for t in tf_matrix[doc_id].keys():\n",
    "        l += tfidf(t,doc_id) ** 2\n",
    "    tfidf_length_values[doc_id] = sqrt(l)\n",
    "\n",
    "def tfidf_length(d):\n",
    "    return tfidf_length_values[d]"
   ]
  },
  {
   "cell_type": "code",
   "execution_count": 36,
   "metadata": {},
   "outputs": [],
   "source": [
    "def query_ntc_ntc(query_string):\n",
    "    terms = smarter_tokenize_and_preprocess(query_string)\n",
    "    results = score_ntc_ntc(terms)\n",
    "    return results\n",
    "    #displaying top K documents\n",
    "\n",
    "def score_ntc_ntc(terms):\n",
    "    documents_ranking = defaultdict(float)\n",
    "    for doc_id in books.keys():\n",
    "        score = 0\n",
    "        for term in terms:\n",
    "            score += tfidf(term, doc_id)\n",
    "        try:\n",
    "            documents_ranking[doc_id] = score/tfidf_length(doc_id)\n",
    "        except ZeroDivisionError:\n",
    "            continue\n",
    "    documents_ranking = sorted(documents_ranking.items(), key=lambda i:i[1], reverse=True)\n",
    "    return documents_ranking"
   ]
  },
  {
   "cell_type": "code",
   "execution_count": 37,
   "metadata": {},
   "outputs": [
    {
     "data": {
      "text/html": [
       "<strong><a href=\"https://www.goodreads.com/book/show/23494381-lucky-go-happy\">Lucky Go Happy: Make Happiness Happen!</a></strong><br>21-10-2014. Paul Van Der Merwe<br><small><strong>Abstract:</strong> <em>Described as \"The best book as far as the attainment of happiness goes.\" by readersfavorite.com, Lucky Go Happy is an amusing, modern-day fable for adults and teens alike.  Readers wanting to make happiness happen for themselves or those around them will gain insight into being happier - and being happy more often.Happiness, emotions and positive psychology are abstract concepts that are generally difficult to explain and understand.Adopting a unique approach, Lucky Go Happy unpacks these abstract concepts using the odd elementary graph and image, which when conveyed to readers through a fable makes for an informative and entertaining read for young and old.Lucky Go Happy follows the adventures of Lucky the Rat who has been sent into the African Bush by King Lion, to discover what makes other animals happy.Through various encounters with remarkable characters, Lucky captures some reviving new takes on happiness which he has to present to King Lion in a report before the next rainy season. King Lion hopes to regain his own happiness after reading the report.Lucky Go Happy will:- demonstrate how we lose more than 70 percent of potential happy time by living for weekends only- explain how contentment can yield the same amount of happiness as ecstasy- provide concrete proof that money can never - and will never - make us happy- highlight why it is absolutely essential to be unhappy at times-- illustrate why a midlife crisis happens- show that happiness is not around the next corner; it is here and now,- andhelp you understand how happiness works.Rather than waiting for happiness, you can make it happen for yourself and for those around you!Visit www.luckygohappybook.com</em></small>"
      ],
      "text/plain": [
       "<IPython.core.display.HTML object>"
      ]
     },
     "metadata": {},
     "output_type": "display_data"
    },
    {
     "name": "stdout",
     "output_type": "stream",
     "text": [
      "Score: 0.6712128742651122\n"
     ]
    },
    {
     "data": {
      "text/html": [
       "<strong><a href=\"https://www.goodreads.com/book/show/11395597-why-be-happy-when-you-could-be-normal\">Why Be Happy When You Could Be Normal?</a></strong><br>06-03-2012. Jeanette Winterson<br><small><strong>Abstract:</strong> <em>Witty, acute, fierce, and celebratory, Why Be Happy When You Could Be Normal? is a tough-minded search for belonging, for love, identity, home, and a mother.Jeanette Winterson's novels have established her as a major figure in world literature. She has written some of the most admired books of the past few decades, including her internationally bestselling first novel, Oranges Are Not the Only Fruit, the story of a young girl adopted by Pentecostal parents that is now often required reading in contemporary fiction. Why Be Happy When You Could Be Normal? is a memoir about a life's work to find happiness. It's a book full of stories: about a girl locked out of her home, sitting on the doorstep all night; about a religious zealot disguised as a mother who has two sets of false teeth and a revolver in the dresser, waiting for Armageddon; about growing up in an north England industrial town now changed beyond recognition; about the Universe as Cosmic Dustbin. It is the story of how a painful past that Jeanette thought she'd written over and repainted rose to haunt her, sending her on a journey into madness and out again, in search of her biological mother.</em></small>"
      ],
      "text/plain": [
       "<IPython.core.display.HTML object>"
      ]
     },
     "metadata": {},
     "output_type": "display_data"
    },
    {
     "name": "stdout",
     "output_type": "stream",
     "text": [
      "Score: 0.32138166651723676\n"
     ]
    },
    {
     "data": {
      "text/html": [
       "<strong><a href=\"https://www.goodreads.com/book/show/6398634-the-happiness-project\">The Happiness Project</a></strong><br>29-12-2009. Gretchen Rubin<br><small><strong>Abstract:</strong> <em>Gretchen Rubin had an epiphany one rainy afternoon in the unlikeliest of places: a city bus. “The days are long, but the years are short,” she realized. “Time is passing, and I’m not focusing enough on the things that really matter.” In that moment, she decided to dedicate a year to her happiness project.In this lively and compelling account, Rubin chronicles her adventures during the twelve months she spent test-driving the wisdom of the ages, current scientific research, and lessons from popular culture about how to be happier. Among other things, she found that novelty and challenge are powerful sources of happiness; that money can help buy happiness, when spent wisely; that outer order contributes to inner calm; and that the very smallest of changes can make the biggest difference.</em></small>"
      ],
      "text/plain": [
       "<IPython.core.display.HTML object>"
      ]
     },
     "metadata": {},
     "output_type": "display_data"
    },
    {
     "name": "stdout",
     "output_type": "stream",
     "text": [
      "Score: 0.31369733479331924\n"
     ]
    },
    {
     "data": {
      "text/html": [
       "<strong><a href=\"https://www.goodreads.com/book/show/23848559-furiously-happy\">Furiously Happy: A Funny Book About Horrible Things</a></strong><br>22-09-2015. Jenny  Lawson<br><small><strong>Abstract:</strong> <em>#1 New York Times BestsellerIn Furiously Happy, a humor memoir tinged with just enough tragedy and pathos to make it worthwhile, Jenny Lawson examines her own experience with severe depression and a host of other conditions, and explains how it has led her to live life to the fullest:\"I've often thought that people with severe depression have developed such a well for experiencing extreme emotion that they might be able to experience extreme joy in a way that ‘normal people' also might never understand. And that's what Furiously Happy is all about.\"Jenny’s readings are standing room only, with fans lining up to have Jenny sign their bottles of Xanax or Prozac as often as they are to have her sign their books. Furiously Happy appeals to Jenny's core fan base but also transcends it. There are so many people out there struggling with depression and mental illness, either themselves or someone in their family—and in Furiously Happy they will find a member of their tribe offering up an uplifting message (via a taxidermied roadkill raccoon). Let's Pretend This Never Happened ostensibly was about embracing your own weirdness, but deep down it was about family. Furiously Happy is about depression and mental illness, but deep down it's about joy—and who doesn't want a bit more of that?</em></small>"
      ],
      "text/plain": [
       "<IPython.core.display.HTML object>"
      ]
     },
     "metadata": {},
     "output_type": "display_data"
    },
    {
     "name": "stdout",
     "output_type": "stream",
     "text": [
      "Score: 0.28224058651428807\n"
     ]
    },
    {
     "data": {
      "text/html": [
       "<strong><a href=\"https://www.goodreads.com/book/show/20363899-happy-halloween\">Happy Halloween</a></strong><br>12-09-2012. Othen Donald Dale Cummings<br><small><strong>Abstract:</strong> <em>Happy Halloween! A fun watercolor picture book with easy to learn words for small children. Get in the Halloween spirit with this colorful treat filled book!</em></small>"
      ],
      "text/plain": [
       "<IPython.core.display.HTML object>"
      ]
     },
     "metadata": {},
     "output_type": "display_data"
    },
    {
     "name": "stdout",
     "output_type": "stream",
     "text": [
      "Score: 0.2753803916681648\n"
     ]
    }
   ],
   "source": [
    "results = query_ntc_ntc(\"happiness of young adults\")\n",
    "K = 5\n",
    "for id, score in results[:K]:\n",
    "    display_summary(id, show_abstract=True)\n",
    "    print(f'Score: {score}')"
   ]
  },
  {
   "cell_type": "code",
   "execution_count": 41,
   "metadata": {},
   "outputs": [
    {
     "data": {
      "text/html": [
       "<strong><a href=\"https://www.goodreads.com/book/show/11690.Istanbul\">Istanbul: Memories and the City</a></strong><br>11-07-2006. Orhan Pamuk<br><small><strong>Abstract:</strong> <em>A shimmering evocation, by turns intimate and panoramic, of one of the world’s great cities, by its foremost writer. Orhan Pamuk was born in Istanbul and still lives in the family apartment building where his mother first held him in her arms. His portrait of his city is thus also a self-portrait, refracted by memory and the melancholy–or–hüzün–that all Istanbullus share: the sadness that comes of living amid the ruins of a lost empire. With cinematic fluidity, Pamuk moves from his glamorous, unhappy parents to the gorgeous, decrepit mansions overlooking the Bosphorus; from the dawning of his self-consciousness to the writers and painters–both Turkish and foreign–who would shape his consciousness of his city. Like Joyce’s Dublin and Borges’ Buenos Aires, Pamuk’s Istanbul is a triumphant encounter of place and sensibility, beautifully written and immensely moving.</em></small>"
      ],
      "text/plain": [
       "<IPython.core.display.HTML object>"
      ]
     },
     "metadata": {},
     "output_type": "display_data"
    },
    {
     "name": "stdout",
     "output_type": "stream",
     "text": [
      "Similarity Score: 0.4954030513763428\n"
     ]
    },
    {
     "data": {
      "text/html": [
       "<strong><a href=\"https://www.goodreads.com/book/show/6282753-the-museum-of-innocence\">The Museum of Innocence</a></strong><br>20-10-2009. Orhan Pamuk, Maureen Freely<br><small><strong>Abstract:</strong> <em>“It was the happiest moment of my life, though I didn’t know it.” So begins the new novel, his first since winning the Nobel Prize, from the universally acclaimed author of Snow and My Name Is Red. It is 1975, a perfect spring in Istanbul. Kemal, scion of one of the city’s wealthiest families, is about to become engaged to Sibel, daughter of another prominent family, when he encounters Füsun, a beautiful shopgirl and a distant relation. Once the long-lost cousins violate the code of virginity, a rift begins to open between Kemal and the world of the Westernized Istanbul bourgeosie—a world, as he lovingly describes it, with opulent parties and clubs, society gossip, restaurant rituals, picnics, and mansions on the Bosphorus, infused with the melancholy of decay—until finally he breaks off his engagement to Sibel. But his resolve comes too late. For eight years Kemal will find excuses to visit another Istanbul, that of the impoverished backstreets where Füsun, her heart now hardened, lives with her parents, and where Kemal discovers the consolations of middle-class life at a dinner table in front of the television. His obsessive love will also take him to the demimonde of Istanbul film circles (where he promises to make Füsun a star), a scene of seedy bars, run-down cheap hotels, and small men with big dreams doomed to bitter failure. In his feckless pursuit, Kemal becomes a compulsive collector of objects that chronicle his lovelorn progress and his afflicted heart’s reactions: anger and impatience, remorse and humiliation, deluded hopes of recovery, and daydreams that transform Istanbul into a cityscape of signs and specters of his beloved, from whom now he can extract only meaningful glances and stolen kisses in cars, movie houses, and shadowy corners of parks. A last change to realize his dream will come to an awful end before Kemal discovers that all he finally can possess, certainly and eternally, is the museum he has created of his collection, this map of a society’s manners and mores, and of one man’s broken heart.A stirring exploration of the nature of romantic attachment and of the mysterious allure of collecting, The Museum of Innocence also plumbs the depths of an Istanbul half Western and half traditional—its emergent modernity, its vast cultural history. This is Orhan Pamuk’s greatest achievement.</em></small>"
      ],
      "text/plain": [
       "<IPython.core.display.HTML object>"
      ]
     },
     "metadata": {},
     "output_type": "display_data"
    },
    {
     "name": "stdout",
     "output_type": "stream",
     "text": [
      "Similarity Score: 0.42500853538513184\n"
     ]
    },
    {
     "data": {
      "text/html": [
       "<strong><a href=\"https://www.goodreads.com/book/show/98920.The_Bastard_of_Istanbul\">The Bastard of Istanbul</a></strong><br>18-01-2007. Elif Shafak<br><small><strong>Abstract:</strong> <em>From one of Turkey’s most acclaimed and outspoken writers, a novel about the tangled histories of two families.In her second novel written in English, Elif Shafak confronts her country’s violent past in a vivid and colorful tale set in both Turkey and the United States. At its center is the “bastard” of the title, Asya, a nineteen-year-old woman who loves Johnny Cash and the French Existentialists, and the four sisters of the Kazanci family who all live together in an extended household in Istanbul: Zehila, the zestful, headstrong youngest sister who runs a tattoo parlor and is Asya’s mother; Banu, who has newly discovered herself as a clairvoyant; Cevriye, a widowed high school teacher; and Feride, a hypochondriac obsessed with impending disaster. Their one estranged brother lives in Arizona with his wife and her Armenian daughter, Armanoush. When Armanoush secretly flies to Istanbul in search of her identity, she finds the Kazanci sisters and becomes fast friends with Asya. A secret is uncovered that links the two families and ties them to the 1915 Armenian deportations and massacres. Full of vigorous, unforgettable female characters, The Bastard of Istanbul is a bold, powerful tale that will confirm Shafak as a rising star of international fiction.</em></small>"
      ],
      "text/plain": [
       "<IPython.core.display.HTML object>"
      ]
     },
     "metadata": {},
     "output_type": "display_data"
    },
    {
     "name": "stdout",
     "output_type": "stream",
     "text": [
      "Similarity Score: 0.416370153427124\n"
     ]
    },
    {
     "data": {
      "text/html": [
       "<strong><a href=\"https://www.goodreads.com/book/show/15811554-honor\">Honor</a></strong><br>07-03-2013. Elif Shafak<br><small><strong>Abstract:</strong> <em>An honor killing shatters and transforms the lives of Turkish immigrants in 1970s LondonInternationally bestselling Turkish author Elif Shafak’s new novel is a dramatic tale of families, love, and misunderstandings that follows the destinies of twin sisters born in a Kurdish village. While Jamila stays to become a midwife, Pembe follows her Turkish husband, Adem, to London, where they hope to make new lives for themselves and their children.In London, they face a choice: stay loyal to the old traditions or try their best to fit in. After Adem abandons his family, Iskender, the eldest son, must step in and become the one who will not let any shame come to the family name. And when Pembe begins a chaste affair with a man named Elias, Iskender will discover that you could love someone with all your heart and yet be ready to hurt them.Just published to great acclaim in England, Honor is a powerful, gripping exploration of guilt and innocence, loyalty and betrayal, and the trials of the immigrant, as well as the love and heartbreak that too often tear families apart.</em></small>"
      ],
      "text/plain": [
       "<IPython.core.display.HTML object>"
      ]
     },
     "metadata": {},
     "output_type": "display_data"
    },
    {
     "name": "stdout",
     "output_type": "stream",
     "text": [
      "Similarity Score: 0.3933972716331482\n"
     ]
    },
    {
     "data": {
      "text/html": [
       "<strong><a href=\"https://www.goodreads.com/book/show/636802._al_ku_u\">Çalıkuşu</a></strong><br>01-01-1992. Reşat Nuri Güntekin<br><small><strong>Abstract:</strong> <em>Reşat Nuri Güntekin'in 1922 yılında ilk kez Vakit gazetesinde tefrika edilen en tanınmış eseridir. Fransız Lisesi mezunu gencecik, delişmen bir kız olan Feride'nin serüveni yaşadığı derin bir hayal kırıklığı sonrasında nişanlısını, ailesini İstanbul'da bırakarak Anadolu'nun küçük bir köyüne öğretmen olmasıyla başlar. Daha sonra bu köyü diğer kasabalar, şehirler izler. Önceleri her gittiği yerde Kurtuluş Savaşı'nın etkileri görülür, güç koşulların, sefaletin izlerine rastlanır. Sonraları farklı kültürden gelen genç, yalnız ve bağımsız bir kızın toplumsal yaşamdaki zorlukları, çatışan değer yargıları, karşısına dikilen çıkar ilişkileri, Feride'nin iç dünyasındaki fırtınalar ve derin yalnızlıkla iç içe geçerek okurun karşısına çıkar. Çalıkuşu, gerçekçi yönelimin ilk dönemlerinden olan bir başyapıttır.</em></small>"
      ],
      "text/plain": [
       "<IPython.core.display.HTML object>"
      ]
     },
     "metadata": {},
     "output_type": "display_data"
    },
    {
     "name": "stdout",
     "output_type": "stream",
     "text": [
      "Similarity Score: 0.39217865467071533\n"
     ]
    }
   ],
   "source": [
    "embeddings = Embeddings()\n",
    "\n",
    "# Load the saved model\n",
    "embeddings.load(\"models\")\n",
    "\n",
    "# Now you can use the loaded model\n",
    "res = embeddings.search(\"Heart of Istanbul\", 5)\n",
    "\n",
    "index = []\n",
    "similarities = []\n",
    "for r in res:\n",
    "    index.append(r[0])\n",
    "    similarities.append(r[1])\n",
    "\n",
    "for k, i in enumerate(index):\n",
    "    url = list(books.keys())[i]\n",
    "    display_summary(url, show_abstract=True)\n",
    "    print(f'Similarity Score: {similarities[k]}')"
   ]
  }
 ],
 "metadata": {
  "kernelspec": {
   "display_name": "Python 3",
   "language": "python",
   "name": "python3"
  },
  "language_info": {
   "codemirror_mode": {
    "name": "ipython",
    "version": 3
   },
   "file_extension": ".py",
   "mimetype": "text/x-python",
   "name": "python",
   "nbconvert_exporter": "python",
   "pygments_lexer": "ipython3",
   "version": "3.12.1"
  }
 },
 "nbformat": 4,
 "nbformat_minor": 2
}
